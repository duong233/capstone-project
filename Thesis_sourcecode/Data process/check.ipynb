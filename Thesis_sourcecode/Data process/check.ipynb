{
 "cells": [
  {
   "cell_type": "markdown",
   "metadata": {},
   "source": [
    "# Các bước thực hiện\n",
    "* Compile các lỗ hổng từ source code thành bytecode\n",
    "    * Nén dữ liệu từng lỗ hổng thành csv file tương ứng\n",
    "* Xử lý dữ liệu csv: \n",
    "    * Đọc file dữ liệu cũ\n",
    "    * Đọc từng file lỗ hổng riêng lẻ, xóa các dòng bị trùng lặp \n",
    "    * Xóa các dòng không compile được, dữ liệu bắt đầu với'\\n'\n",
    "    * Kiểm tra dữ liệu Outdated với bộ Outdated trong dữ liệu cũ\n",
    "    * Gán label mới tương ứng với địa chỉ bytecode\n",
    "    * Kết hợp dữ liệu Bytecode và dữ liệu Nhãn mới thành file dataset mới"
   ]
  },
  {
   "cell_type": "markdown",
   "metadata": {},
   "source": [
    "# Import necessary lib"
   ]
  },
  {
   "cell_type": "code",
   "execution_count": 1,
   "metadata": {},
   "outputs": [],
   "source": [
    "import pandas as pd \n",
    "import os \n",
    "import numpy as np\n",
    "from tqdm import tqdm"
   ]
  },
  {
   "cell_type": "code",
   "execution_count": 2,
   "metadata": {},
   "outputs": [],
   "source": [
    "# address_check = df1.loc[df1['Outdated Solidity version'] == 1, ['ADDRESS']]['ADDRESS'].tolist()\n",
    "# address = df1['ADDRESS'].tolist()\n"
   ]
  },
  {
   "cell_type": "markdown",
   "metadata": {},
   "source": [
    "# Read data raw"
   ]
  },
  {
   "cell_type": "code",
   "execution_count": 3,
   "metadata": {},
   "outputs": [],
   "source": [
    "df_data = pd.read_csv('Data_Cleansing.csv')\n",
    "address = df_data['ADDRESS'].tolist()"
   ]
  },
  {
   "cell_type": "code",
   "execution_count": 33,
   "metadata": {},
   "outputs": [],
   "source": [
    "df_reentrancy = pd.read_csv(\"reentrancy.csv\").drop_duplicates()\n",
    "df_outdated = pd.read_csv(\"outdated.csv\").drop_duplicates()\n",
    "df_delegate = pd.read_csv(\"delegate.csv\").drop_duplicates()\n",
    "df_frozen = pd.read_csv(\"frozenether.csv\").drop_duplicates()\n",
    "df_timestamp = pd.read_csv(\"timestamp.csv\").drop_duplicates()"
   ]
  },
  {
   "cell_type": "markdown",
   "metadata": {},
   "source": [
    "### Clear noise in data "
   ]
  },
  {
   "cell_type": "code",
   "execution_count": 35,
   "metadata": {},
   "outputs": [],
   "source": [
    "df_reentrancy = df_reentrancy[~df_reentrancy['BYTECODE'].str.startswith('\\n')]\n",
    "df_outdated = df_outdated[~df_outdated['BYTECODE'].str.startswith('\\n')]\n",
    "df_delegate = df_delegate[~df_delegate['BYTECODE'].str.startswith('\\n')]\n",
    "df_frozen = df_frozen[~df_frozen['BYTECODE'].str.startswith('\\n')]\n",
    "df_timestamp = df_timestamp[~df_timestamp['BYTECODE'].str.startswith('\\n')]"
   ]
  },
  {
   "cell_type": "code",
   "execution_count": 38,
   "metadata": {},
   "outputs": [
    {
     "name": "stderr",
     "output_type": "stream",
     "text": [
      "/tmp/ipykernel_13898/322731642.py:1: FutureWarning: The default value of regex will change from True to False in a future version.\n",
      "  df_reentrancy['ADDRESS'] = df_reentrancy['ADDRESS'].str.replace(\".txt\",\"\")\n",
      "/tmp/ipykernel_13898/322731642.py:2: FutureWarning: The default value of regex will change from True to False in a future version.\n",
      "  df_outdated['ADDRESS'] = df_outdated['ADDRESS'].str.replace(\".txt\",\"\")\n",
      "/tmp/ipykernel_13898/322731642.py:3: FutureWarning: The default value of regex will change from True to False in a future version.\n",
      "  df_delegate['ADDRESS'] = df_delegate['ADDRESS'].str.replace(\".txt\",\"\")\n",
      "/tmp/ipykernel_13898/322731642.py:4: FutureWarning: The default value of regex will change from True to False in a future version.\n",
      "  df_frozen['ADDRESS'] = df_frozen['ADDRESS'].str.replace(\".txt\",\"\")\n",
      "/tmp/ipykernel_13898/322731642.py:5: FutureWarning: The default value of regex will change from True to False in a future version.\n",
      "  df_timestamp['ADDRESS'] = df_timestamp['ADDRESS'].str.replace(\".txt\",\"\")\n"
     ]
    }
   ],
   "source": [
    "df_reentrancy['ADDRESS'] = df_reentrancy['ADDRESS'].str.replace(\".txt\",\"\")\n",
    "df_outdated['ADDRESS'] = df_outdated['ADDRESS'].str.replace(\".txt\",\"\")\n",
    "df_delegate['ADDRESS'] = df_delegate['ADDRESS'].str.replace(\".txt\",\"\")\n",
    "df_frozen['ADDRESS'] = df_frozen['ADDRESS'].str.replace(\".txt\",\"\")\n",
    "df_timestamp['ADDRESS'] = df_timestamp['ADDRESS'].str.replace(\".txt\",\"\")"
   ]
  },
  {
   "cell_type": "markdown",
   "metadata": {},
   "source": [
    "### Check data"
   ]
  },
  {
   "cell_type": "code",
   "execution_count": 54,
   "metadata": {},
   "outputs": [
    {
     "name": "stdout",
     "output_type": "stream",
     "text": [
      "Numbers of Reentrancy address: 88554\n",
      "Numbers of Outdated address: 105529\n",
      "Numbers of Delegate address: 35132\n",
      "Numbers of FrozenEther: 96981\n",
      "Numbers of Timestamp: 54666\n"
     ]
    }
   ],
   "source": [
    "addr_reentrancy = df_reentrancy['ADDRESS'].tolist()\n",
    "print(f'Numbers of Reentrancy address: {len(addr_reentrancy)}')\n",
    "\n",
    "addr_outdated = df_outdated['ADDRESS'].tolist()\n",
    "print(f'Numbers of Outdated address: {len(addr_outdated)}')\n",
    "\n",
    "addr_delegate = df_delegate['ADDRESS'].tolist()\n",
    "print(f'Numbers of Delegate address: {len(addr_delegate)}')\n",
    "\n",
    "addr_frozen = df_frozen['ADDRESS'].tolist()\n",
    "print(f'Numbers of FrozenEther: {len(np.unique(addr_frozen))}')\n",
    "\n",
    "addr_timestamp = df_timestamp['ADDRESS'].tolist()\n",
    "print(f'Numbers of Timestamp: {len(np.unique(addr_timestamp))}')"
   ]
  },
  {
   "cell_type": "code",
   "execution_count": 56,
   "metadata": {},
   "outputs": [
    {
     "name": "stdout",
     "output_type": "stream",
     "text": [
      "Numbers of Reentrancy data: 88554\n",
      "Numbers of Outdated data: 105529\n",
      "Numbers of Delegate data: 35132\n",
      "Numbers of Frozen data: 96981\n",
      "Numbers of Timestamp data: 54666\n"
     ]
    }
   ],
   "source": [
    "data_reen = df_reentrancy['BYTECODE'].tolist()\n",
    "print(f'Numbers of Reentrancy data: {len(data_reen)}')\n",
    "\n",
    "data_outdated = df_outdated['BYTECODE'].tolist()\n",
    "print(f'Numbers of Outdated data: {len(data_outdated)}')\n",
    "\n",
    "data_delegate = df_delegate['BYTECODE'].tolist()\n",
    "print(f'Numbers of Delegate data: {len(data_delegate)}')\n",
    "\n",
    "data_frozen = df_frozen['BYTECODE'].tolist()\n",
    "print(f'Numbers of Frozen data: {len(data_frozen)}')\n",
    "\n",
    "data_timestamp = df_timestamp['BYTECODE'].tolist()\n",
    "print(f'Numbers of Timestamp data: {len(data_timestamp)}')"
   ]
  },
  {
   "cell_type": "code",
   "execution_count": 6,
   "metadata": {},
   "outputs": [],
   "source": [
    "def compare(addr1,addr2):   \n",
    "    set1 = set(addr1)\n",
    "    set2 = set(addr2)\n",
    "\n",
    "    commons = set1.intersection(set2)\n",
    "\n",
    "    com_lists = list(commons)\n",
    "    print(\"Comparing matching\")\n",
    "    print(len(com_lists))"
   ]
  },
  {
   "cell_type": "markdown",
   "metadata": {},
   "source": [
    "### Check Outdated data"
   ]
  },
  {
   "cell_type": "code",
   "execution_count": 43,
   "metadata": {},
   "outputs": [
    {
     "name": "stdout",
     "output_type": "stream",
     "text": [
      "Comparing matching\n",
      "105518\n",
      "Outdated in old dataset\n",
      "118863\n",
      "Actual outdated data after cleansing\n",
      "105529\n"
     ]
    }
   ],
   "source": [
    "data_check = df_data.loc[df_data['Outdated Solidity version'] == 1, ['BYTECODE']]['BYTECODE'].tolist()\n",
    "data_true = df_outdated['BYTECODE'].tolist()\n",
    "\n",
    "compare(data_check, data_true)\n",
    "print('Outdated in old dataset')\n",
    "print(len(data_check))\n",
    "print('Actual outdated data after cleansing')\n",
    "print(len(data_true))"
   ]
  },
  {
   "cell_type": "markdown",
   "metadata": {},
   "source": [
    "# Create dataframe include address and vulnerabilities label\n"
   ]
  },
  {
   "cell_type": "markdown",
   "metadata": {},
   "source": [
    "address Reen -> address Delegate -> address Frozen -> address Outdated -> address Times"
   ]
  },
  {
   "cell_type": "code",
   "execution_count": 47,
   "metadata": {},
   "outputs": [
    {
     "data": {
      "text/plain": [
       "['ADDRESS',\n",
       " 'BYTECODE',\n",
       " 'Reentrancy',\n",
       " 'Delegatecall injection',\n",
       " 'Frozen Ether',\n",
       " 'Outdated Solidity version',\n",
       " 'Timestamp Dependency']"
      ]
     },
     "execution_count": 47,
     "metadata": {},
     "output_type": "execute_result"
    }
   ],
   "source": [
    "LABEL = ['ADDRESS', 'BYTECODE']\n",
    "VUL_LABEL = ['Reentrancy', 'Delegatecall injection', 'Frozen Ether', 'Outdated Solidity version', 'Timestamp Dependency']\n",
    "columns = LABEL+VUL_LABEL\n",
    "columns"
   ]
  },
  {
   "cell_type": "markdown",
   "metadata": {},
   "source": [
    "combine address into unique list"
   ]
  },
  {
   "cell_type": "code",
   "execution_count": null,
   "metadata": {},
   "outputs": [],
   "source": [
    "combined_address = list(set(addr_reentrancy+addr_delegate+addr_frozen+addr_outdated+addr_timestamp))\n",
    "\n",
    "print(len(combined_address))"
   ]
  },
  {
   "cell_type": "code",
   "execution_count": 49,
   "metadata": {},
   "outputs": [],
   "source": [
    "def get_vul_label(address, address_reentrancy, address_delegate, address_frozen, address_outdated, address_timestamp):\n",
    "    vul_label = []\n",
    "    for item in tqdm(address):\n",
    "        # print(f'{index+1}/{total}')\n",
    "        if item in address_reentrancy:\n",
    "            v1 = 1\n",
    "        else:\n",
    "            v1 = 0\n",
    "        \n",
    "        if item in address_delegate:\n",
    "            v2 = 1\n",
    "        else:\n",
    "            v2 = 0\n",
    "\n",
    "        if item in address_frozen:\n",
    "            v3 = 1\n",
    "        else:\n",
    "            v3 = 0\n",
    "        \n",
    "        if item in address_outdated:\n",
    "            v4 = 1\n",
    "        else:\n",
    "            v4 = 0\n",
    "        \n",
    "        if item in address_timestamp:\n",
    "            v5 = 1\n",
    "        else:\n",
    "            v5 = 0\n",
    "        # print(f'{(v1,v2,v3,v4,v5)}')\n",
    "        vul_label.append((v1,v2,v3,v4,v5))\n",
    "    return vul_label"
   ]
  },
  {
   "cell_type": "code",
   "execution_count": 68,
   "metadata": {},
   "outputs": [
    {
     "name": "stderr",
     "output_type": "stream",
     "text": [
      "100%|██████████| 156731/156731 [14:27<00:00, 180.74it/s]\n"
     ]
    }
   ],
   "source": [
    "vul_label = get_vul_label(combined_address, addr_reentrancy, addr_delegate,addr_frozen, addr_outdated, addr_timestamp)"
   ]
  },
  {
   "cell_type": "code",
   "execution_count": 72,
   "metadata": {},
   "outputs": [
    {
     "data": {
      "text/plain": [
       "(0, 1, 1, 1, 0)"
      ]
     },
     "execution_count": 72,
     "metadata": {},
     "output_type": "execute_result"
    }
   ],
   "source": [
    "vul_label[0]"
   ]
  },
  {
   "cell_type": "code",
   "execution_count": 82,
   "metadata": {},
   "outputs": [],
   "source": [
    "label_df = pd.DataFrame(vul_label, columns=VUL_LABEL)"
   ]
  },
  {
   "cell_type": "code",
   "execution_count": 83,
   "metadata": {},
   "outputs": [],
   "source": [
    "label_df['ADDRESS'] = combined_address"
   ]
  },
  {
   "cell_type": "code",
   "execution_count": 84,
   "metadata": {},
   "outputs": [
    {
     "data": {
      "text/html": [
       "<div>\n",
       "<style scoped>\n",
       "    .dataframe tbody tr th:only-of-type {\n",
       "        vertical-align: middle;\n",
       "    }\n",
       "\n",
       "    .dataframe tbody tr th {\n",
       "        vertical-align: top;\n",
       "    }\n",
       "\n",
       "    .dataframe thead th {\n",
       "        text-align: right;\n",
       "    }\n",
       "</style>\n",
       "<table border=\"1\" class=\"dataframe\">\n",
       "  <thead>\n",
       "    <tr style=\"text-align: right;\">\n",
       "      <th></th>\n",
       "      <th>Reentrancy</th>\n",
       "      <th>Delegatecall injection</th>\n",
       "      <th>Frozen Ether</th>\n",
       "      <th>Outdated Solidity version</th>\n",
       "      <th>Timestamp Dependency</th>\n",
       "      <th>ADDRESS</th>\n",
       "    </tr>\n",
       "  </thead>\n",
       "  <tbody>\n",
       "    <tr>\n",
       "      <th>0</th>\n",
       "      <td>0</td>\n",
       "      <td>1</td>\n",
       "      <td>1</td>\n",
       "      <td>1</td>\n",
       "      <td>0</td>\n",
       "      <td>0xbdf5a9920f8fa95f46bc53d568b0156af33e37c3</td>\n",
       "    </tr>\n",
       "    <tr>\n",
       "      <th>1</th>\n",
       "      <td>1</td>\n",
       "      <td>0</td>\n",
       "      <td>0</td>\n",
       "      <td>1</td>\n",
       "      <td>1</td>\n",
       "      <td>0x7b87901d64364f56268fb8004e003295d79bd9b7</td>\n",
       "    </tr>\n",
       "    <tr>\n",
       "      <th>2</th>\n",
       "      <td>0</td>\n",
       "      <td>1</td>\n",
       "      <td>1</td>\n",
       "      <td>0</td>\n",
       "      <td>0</td>\n",
       "      <td>0x599d7ec508a001aced11fcca7bbd4b522bed6d6e</td>\n",
       "    </tr>\n",
       "    <tr>\n",
       "      <th>3</th>\n",
       "      <td>1</td>\n",
       "      <td>0</td>\n",
       "      <td>0</td>\n",
       "      <td>1</td>\n",
       "      <td>1</td>\n",
       "      <td>0xe906a32973a5780cd477fb550b9a78c93b2506df</td>\n",
       "    </tr>\n",
       "    <tr>\n",
       "      <th>4</th>\n",
       "      <td>1</td>\n",
       "      <td>0</td>\n",
       "      <td>0</td>\n",
       "      <td>1</td>\n",
       "      <td>1</td>\n",
       "      <td>0xde642b8e2571f7bcf028a0ab4d9fbfe59a2c9525</td>\n",
       "    </tr>\n",
       "    <tr>\n",
       "      <th>...</th>\n",
       "      <td>...</td>\n",
       "      <td>...</td>\n",
       "      <td>...</td>\n",
       "      <td>...</td>\n",
       "      <td>...</td>\n",
       "      <td>...</td>\n",
       "    </tr>\n",
       "    <tr>\n",
       "      <th>156726</th>\n",
       "      <td>0</td>\n",
       "      <td>0</td>\n",
       "      <td>1</td>\n",
       "      <td>0</td>\n",
       "      <td>0</td>\n",
       "      <td>0x6305fb0ce7a6e99d18709d8b54c98081e772bfe6</td>\n",
       "    </tr>\n",
       "    <tr>\n",
       "      <th>156727</th>\n",
       "      <td>0</td>\n",
       "      <td>1</td>\n",
       "      <td>1</td>\n",
       "      <td>0</td>\n",
       "      <td>0</td>\n",
       "      <td>0x1870966e060856136beb293438bae5e30d43601c</td>\n",
       "    </tr>\n",
       "    <tr>\n",
       "      <th>156728</th>\n",
       "      <td>1</td>\n",
       "      <td>0</td>\n",
       "      <td>0</td>\n",
       "      <td>1</td>\n",
       "      <td>1</td>\n",
       "      <td>0x698713b58f4385ba62bd721a72618421f086d5d4</td>\n",
       "    </tr>\n",
       "    <tr>\n",
       "      <th>156729</th>\n",
       "      <td>0</td>\n",
       "      <td>0</td>\n",
       "      <td>1</td>\n",
       "      <td>0</td>\n",
       "      <td>0</td>\n",
       "      <td>0x2549678bce4240de0b7e41a821d5157ce80e45e9</td>\n",
       "    </tr>\n",
       "    <tr>\n",
       "      <th>156730</th>\n",
       "      <td>1</td>\n",
       "      <td>0</td>\n",
       "      <td>0</td>\n",
       "      <td>1</td>\n",
       "      <td>1</td>\n",
       "      <td>0xf615e9d45b998f605a5c1e27839c46670717a931</td>\n",
       "    </tr>\n",
       "  </tbody>\n",
       "</table>\n",
       "<p>156731 rows × 6 columns</p>\n",
       "</div>"
      ],
      "text/plain": [
       "        Reentrancy  Delegatecall injection  Frozen Ether  \\\n",
       "0                0                       1             1   \n",
       "1                1                       0             0   \n",
       "2                0                       1             1   \n",
       "3                1                       0             0   \n",
       "4                1                       0             0   \n",
       "...            ...                     ...           ...   \n",
       "156726           0                       0             1   \n",
       "156727           0                       1             1   \n",
       "156728           1                       0             0   \n",
       "156729           0                       0             1   \n",
       "156730           1                       0             0   \n",
       "\n",
       "        Outdated Solidity version  Timestamp Dependency  \\\n",
       "0                               1                     0   \n",
       "1                               1                     1   \n",
       "2                               0                     0   \n",
       "3                               1                     1   \n",
       "4                               1                     1   \n",
       "...                           ...                   ...   \n",
       "156726                          0                     0   \n",
       "156727                          0                     0   \n",
       "156728                          1                     1   \n",
       "156729                          0                     0   \n",
       "156730                          1                     1   \n",
       "\n",
       "                                           ADDRESS  \n",
       "0       0xbdf5a9920f8fa95f46bc53d568b0156af33e37c3  \n",
       "1       0x7b87901d64364f56268fb8004e003295d79bd9b7  \n",
       "2       0x599d7ec508a001aced11fcca7bbd4b522bed6d6e  \n",
       "3       0xe906a32973a5780cd477fb550b9a78c93b2506df  \n",
       "4       0xde642b8e2571f7bcf028a0ab4d9fbfe59a2c9525  \n",
       "...                                            ...  \n",
       "156726  0x6305fb0ce7a6e99d18709d8b54c98081e772bfe6  \n",
       "156727  0x1870966e060856136beb293438bae5e30d43601c  \n",
       "156728  0x698713b58f4385ba62bd721a72618421f086d5d4  \n",
       "156729  0x2549678bce4240de0b7e41a821d5157ce80e45e9  \n",
       "156730  0xf615e9d45b998f605a5c1e27839c46670717a931  \n",
       "\n",
       "[156731 rows x 6 columns]"
      ]
     },
     "execution_count": 84,
     "metadata": {},
     "output_type": "execute_result"
    }
   ],
   "source": [
    "label_df"
   ]
  },
  {
   "cell_type": "markdown",
   "metadata": {},
   "source": [
    "# Create Dataframes with Bytecode and Address"
   ]
  },
  {
   "cell_type": "code",
   "execution_count": 67,
   "metadata": {},
   "outputs": [
    {
     "data": {
      "text/html": [
       "<div>\n",
       "<style scoped>\n",
       "    .dataframe tbody tr th:only-of-type {\n",
       "        vertical-align: middle;\n",
       "    }\n",
       "\n",
       "    .dataframe tbody tr th {\n",
       "        vertical-align: top;\n",
       "    }\n",
       "\n",
       "    .dataframe thead th {\n",
       "        text-align: right;\n",
       "    }\n",
       "</style>\n",
       "<table border=\"1\" class=\"dataframe\">\n",
       "  <thead>\n",
       "    <tr style=\"text-align: right;\">\n",
       "      <th></th>\n",
       "      <th>BYTECODE</th>\n",
       "      <th>ADDRESS</th>\n",
       "    </tr>\n",
       "  </thead>\n",
       "  <tbody>\n",
       "    <tr>\n",
       "      <th>0</th>\n",
       "      <td>60 55 60 23 60 0b 82 82 82 39 80 51 60 00 1a 6...</td>\n",
       "      <td>0x2f9fe0851eb80bd8ae3450b896f1cd6a0c1e06ab</td>\n",
       "    </tr>\n",
       "    <tr>\n",
       "      <th>2</th>\n",
       "      <td>60 55 60 23 60 0b 82 82 82 39 80 51 60 00 1a 6...</td>\n",
       "      <td>0x263b7132a315cf1fb266fff3d416f31e4d2d3899</td>\n",
       "    </tr>\n",
       "    <tr>\n",
       "      <th>4</th>\n",
       "      <td>60 55 60 23 60 0b 82 82 82 39 80 51 60 00 1a 6...</td>\n",
       "      <td>0x4478535df69f9d9b151b079c21a56a1c6266ef82</td>\n",
       "    </tr>\n",
       "    <tr>\n",
       "      <th>5</th>\n",
       "      <td>60 55 60 23 60 0b 82 82 82 39 80 51 60 00 1a 6...</td>\n",
       "      <td>0xc391f26e4de429d3177980e456e68f266bb66c3a</td>\n",
       "    </tr>\n",
       "    <tr>\n",
       "      <th>6</th>\n",
       "      <td>60 55 60 23 60 0b 82 82 82 39 80 51 60 00 1a 6...</td>\n",
       "      <td>0xc5af6ff1e81f86b13583f6a607c21e5f3b55d794</td>\n",
       "    </tr>\n",
       "    <tr>\n",
       "      <th>...</th>\n",
       "      <td>...</td>\n",
       "      <td>...</td>\n",
       "    </tr>\n",
       "    <tr>\n",
       "      <th>58451</th>\n",
       "      <td>60 56 60 23 60 0b 82 82 82 39 80 51 60 00 1a 6...</td>\n",
       "      <td>0x1dc3c2c16195bd6e49f6ed05f1f482c3c7fd35af</td>\n",
       "    </tr>\n",
       "    <tr>\n",
       "      <th>58534</th>\n",
       "      <td>60 80 60 40 52 34 80 15 61 00 10 57 60 00 80 f...</td>\n",
       "      <td>0x6e40a9d1ee2c8ef95322b879cbae35be6dd2d143</td>\n",
       "    </tr>\n",
       "    <tr>\n",
       "      <th>58715</th>\n",
       "      <td>60 80 60 40 52 34 80 15 61 00 10 57 60 00 80 f...</td>\n",
       "      <td>0xb7d018f57b82d1523f15a270d6b942836204310b</td>\n",
       "    </tr>\n",
       "    <tr>\n",
       "      <th>58810</th>\n",
       "      <td>60 56 60 23 60 0b 82 82 82 39 80 51 60 00 1a 6...</td>\n",
       "      <td>0x31932e6e45012476ba3a3a4953cba62aee77fbbe</td>\n",
       "    </tr>\n",
       "    <tr>\n",
       "      <th>59097</th>\n",
       "      <td>60 80 60 40 52 34 80 15 61 00 10 57 60 00 80 f...</td>\n",
       "      <td>0x95b74ef13ff280a89ce3d7bbefc822c210e9939f</td>\n",
       "    </tr>\n",
       "  </tbody>\n",
       "</table>\n",
       "<p>156731 rows × 2 columns</p>\n",
       "</div>"
      ],
      "text/plain": [
       "                                                BYTECODE  \\\n",
       "0      60 55 60 23 60 0b 82 82 82 39 80 51 60 00 1a 6...   \n",
       "2      60 55 60 23 60 0b 82 82 82 39 80 51 60 00 1a 6...   \n",
       "4      60 55 60 23 60 0b 82 82 82 39 80 51 60 00 1a 6...   \n",
       "5      60 55 60 23 60 0b 82 82 82 39 80 51 60 00 1a 6...   \n",
       "6      60 55 60 23 60 0b 82 82 82 39 80 51 60 00 1a 6...   \n",
       "...                                                  ...   \n",
       "58451  60 56 60 23 60 0b 82 82 82 39 80 51 60 00 1a 6...   \n",
       "58534  60 80 60 40 52 34 80 15 61 00 10 57 60 00 80 f...   \n",
       "58715  60 80 60 40 52 34 80 15 61 00 10 57 60 00 80 f...   \n",
       "58810  60 56 60 23 60 0b 82 82 82 39 80 51 60 00 1a 6...   \n",
       "59097  60 80 60 40 52 34 80 15 61 00 10 57 60 00 80 f...   \n",
       "\n",
       "                                          ADDRESS  \n",
       "0      0x2f9fe0851eb80bd8ae3450b896f1cd6a0c1e06ab  \n",
       "2      0x263b7132a315cf1fb266fff3d416f31e4d2d3899  \n",
       "4      0x4478535df69f9d9b151b079c21a56a1c6266ef82  \n",
       "5      0xc391f26e4de429d3177980e456e68f266bb66c3a  \n",
       "6      0xc5af6ff1e81f86b13583f6a607c21e5f3b55d794  \n",
       "...                                           ...  \n",
       "58451  0x1dc3c2c16195bd6e49f6ed05f1f482c3c7fd35af  \n",
       "58534  0x6e40a9d1ee2c8ef95322b879cbae35be6dd2d143  \n",
       "58715  0xb7d018f57b82d1523f15a270d6b942836204310b  \n",
       "58810  0x31932e6e45012476ba3a3a4953cba62aee77fbbe  \n",
       "59097  0x95b74ef13ff280a89ce3d7bbefc822c210e9939f  \n",
       "\n",
       "[156731 rows x 2 columns]"
      ]
     },
     "execution_count": 67,
     "metadata": {},
     "output_type": "execute_result"
    }
   ],
   "source": [
    "dataframes = [df_reentrancy, df_delegate, df_frozen, df_outdated, df_timestamp]\n",
    "combined_df = pd.concat(dataframes)\n",
    "combined_df = combined_df.drop_duplicates(subset='ADDRESS')\n",
    "\n",
    "combined_df"
   ]
  },
  {
   "cell_type": "markdown",
   "metadata": {},
   "source": [
    "# Merge dataframe by address"
   ]
  },
  {
   "cell_type": "code",
   "execution_count": 85,
   "metadata": {},
   "outputs": [],
   "source": [
    "df_new_dataset = pd.merge(combined_df,label_df,on='ADDRESS', how='left')"
   ]
  },
  {
   "cell_type": "code",
   "execution_count": 88,
   "metadata": {},
   "outputs": [],
   "source": [
    "df_new_dataset.to_csv('BytecodeMultivulDataset.csv', index=False)"
   ]
  },
  {
   "cell_type": "markdown",
   "metadata": {},
   "source": [
    "# Split\n"
   ]
  },
  {
   "cell_type": "code",
   "execution_count": 2,
   "metadata": {},
   "outputs": [],
   "source": [
    "new_df = pd.read_csv('BytecodeMultivulDataset.csv')"
   ]
  },
  {
   "cell_type": "code",
   "execution_count": 11,
   "metadata": {},
   "outputs": [
    {
     "data": {
      "text/html": [
       "<div>\n",
       "<style scoped>\n",
       "    .dataframe tbody tr th:only-of-type {\n",
       "        vertical-align: middle;\n",
       "    }\n",
       "\n",
       "    .dataframe tbody tr th {\n",
       "        vertical-align: top;\n",
       "    }\n",
       "\n",
       "    .dataframe thead th {\n",
       "        text-align: right;\n",
       "    }\n",
       "</style>\n",
       "<table border=\"1\" class=\"dataframe\">\n",
       "  <thead>\n",
       "    <tr style=\"text-align: right;\">\n",
       "      <th></th>\n",
       "      <th>BYTECODE</th>\n",
       "      <th>ADDRESS</th>\n",
       "      <th>Reentrancy</th>\n",
       "      <th>Delegatecall injection</th>\n",
       "      <th>Frozen Ether</th>\n",
       "      <th>Outdated Solidity version</th>\n",
       "      <th>Timestamp Dependency</th>\n",
       "    </tr>\n",
       "  </thead>\n",
       "  <tbody>\n",
       "    <tr>\n",
       "      <th>0</th>\n",
       "      <td>60 55 60 23 60 0b 82 82 82 39 80 51 60 00 1a 6...</td>\n",
       "      <td>0x2f9fe0851eb80bd8ae3450b896f1cd6a0c1e06ab</td>\n",
       "      <td>1</td>\n",
       "      <td>0</td>\n",
       "      <td>0</td>\n",
       "      <td>1</td>\n",
       "      <td>1</td>\n",
       "    </tr>\n",
       "    <tr>\n",
       "      <th>1</th>\n",
       "      <td>60 55 60 23 60 0b 82 82 82 39 80 51 60 00 1a 6...</td>\n",
       "      <td>0x263b7132a315cf1fb266fff3d416f31e4d2d3899</td>\n",
       "      <td>1</td>\n",
       "      <td>0</td>\n",
       "      <td>0</td>\n",
       "      <td>1</td>\n",
       "      <td>1</td>\n",
       "    </tr>\n",
       "    <tr>\n",
       "      <th>2</th>\n",
       "      <td>60 55 60 23 60 0b 82 82 82 39 80 51 60 00 1a 6...</td>\n",
       "      <td>0x4478535df69f9d9b151b079c21a56a1c6266ef82</td>\n",
       "      <td>1</td>\n",
       "      <td>0</td>\n",
       "      <td>0</td>\n",
       "      <td>1</td>\n",
       "      <td>1</td>\n",
       "    </tr>\n",
       "    <tr>\n",
       "      <th>3</th>\n",
       "      <td>60 55 60 23 60 0b 82 82 82 39 80 51 60 00 1a 6...</td>\n",
       "      <td>0xc391f26e4de429d3177980e456e68f266bb66c3a</td>\n",
       "      <td>1</td>\n",
       "      <td>0</td>\n",
       "      <td>0</td>\n",
       "      <td>1</td>\n",
       "      <td>1</td>\n",
       "    </tr>\n",
       "    <tr>\n",
       "      <th>4</th>\n",
       "      <td>60 55 60 23 60 0b 82 82 82 39 80 51 60 00 1a 6...</td>\n",
       "      <td>0xc5af6ff1e81f86b13583f6a607c21e5f3b55d794</td>\n",
       "      <td>1</td>\n",
       "      <td>0</td>\n",
       "      <td>0</td>\n",
       "      <td>1</td>\n",
       "      <td>1</td>\n",
       "    </tr>\n",
       "  </tbody>\n",
       "</table>\n",
       "</div>"
      ],
      "text/plain": [
       "                                            BYTECODE  \\\n",
       "0  60 55 60 23 60 0b 82 82 82 39 80 51 60 00 1a 6...   \n",
       "1  60 55 60 23 60 0b 82 82 82 39 80 51 60 00 1a 6...   \n",
       "2  60 55 60 23 60 0b 82 82 82 39 80 51 60 00 1a 6...   \n",
       "3  60 55 60 23 60 0b 82 82 82 39 80 51 60 00 1a 6...   \n",
       "4  60 55 60 23 60 0b 82 82 82 39 80 51 60 00 1a 6...   \n",
       "\n",
       "                                      ADDRESS  Reentrancy  \\\n",
       "0  0x2f9fe0851eb80bd8ae3450b896f1cd6a0c1e06ab           1   \n",
       "1  0x263b7132a315cf1fb266fff3d416f31e4d2d3899           1   \n",
       "2  0x4478535df69f9d9b151b079c21a56a1c6266ef82           1   \n",
       "3  0xc391f26e4de429d3177980e456e68f266bb66c3a           1   \n",
       "4  0xc5af6ff1e81f86b13583f6a607c21e5f3b55d794           1   \n",
       "\n",
       "   Delegatecall injection  Frozen Ether  Outdated Solidity version  \\\n",
       "0                       0             0                          1   \n",
       "1                       0             0                          1   \n",
       "2                       0             0                          1   \n",
       "3                       0             0                          1   \n",
       "4                       0             0                          1   \n",
       "\n",
       "   Timestamp Dependency  \n",
       "0                     1  \n",
       "1                     1  \n",
       "2                     1  \n",
       "3                     1  \n",
       "4                     1  "
      ]
     },
     "execution_count": 11,
     "metadata": {},
     "output_type": "execute_result"
    }
   ],
   "source": [
    "new_df.head()"
   ]
  },
  {
   "cell_type": "code",
   "execution_count": 15,
   "metadata": {},
   "outputs": [],
   "source": [
    "LABEL = ['BYTECODE', 'ADDRESS']\n",
    "VUL_LABEL = ['Reentrancy', 'Delegatecall injection', 'Frozen Ether', 'Outdated Solidity version', 'Timestamp Dependency']\n",
    "columns = LABEL+VUL_LABEL"
   ]
  },
  {
   "cell_type": "code",
   "execution_count": 8,
   "metadata": {},
   "outputs": [],
   "source": [
    "# from sklearn.model_selection import train_test_split\n",
    "# train, test = train_test_split(data, train_size=0.8)"
   ]
  },
  {
   "cell_type": "code",
   "execution_count": 2,
   "metadata": {},
   "outputs": [],
   "source": [
    "df_train = pd.read_csv('train.csv')\n",
    "df_test = pd.read_csv('test.csv')"
   ]
  }
 ],
 "metadata": {
  "kernelspec": {
   "display_name": "Python 3",
   "language": "python",
   "name": "python3"
  },
  "language_info": {
   "codemirror_mode": {
    "name": "ipython",
    "version": 3
   },
   "file_extension": ".py",
   "mimetype": "text/x-python",
   "name": "python",
   "nbconvert_exporter": "python",
   "pygments_lexer": "ipython3",
   "version": "3.9.13"
  }
 },
 "nbformat": 4,
 "nbformat_minor": 2
}
